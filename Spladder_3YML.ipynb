{
 "cells": [
  {
   "cell_type": "code",
   "execution_count": 8,
   "metadata": {},
   "outputs": [],
   "source": [
    "import sys\n",
    "import argparse\n",
    "import os\n"
   ]
  },
  {
   "cell_type": "code",
   "execution_count": 21,
   "metadata": {},
   "outputs": [],
   "source": [
    "templateFile = '/Users/alvajames/Mount_projects/PHRT-Immuno/scripts/yml_scripts/templateFile_2'\n",
    "patyml       = '/Users/alvajames/Mount_projects/PHRT-Immuno/results/PART3/yml3/'"
   ]
  },
  {
   "cell_type": "code",
   "execution_count": 38,
   "metadata": {},
   "outputs": [],
   "source": [
    "yml_data     = {}\n",
    "yml_list     = ['spladder_gtf', 'spladder_dir','spladder_qmode','spladder_quantify_graph', 'spladder_bams','spladder_merge_graphs', 'spladder_phase2']  \n",
    "# Reading input file and collecting the provided information\n",
    "fin = open(templateFile, 'r')\n",
    "for line in fin:\n",
    "    line = line.strip().split(' ')\n",
    "    yml_data[line[0]] = line[1]    \n",
    "fin.close()\n",
    "for sam in yml_data['spladder_bams'].split(','):\n",
    "    sam=os.path.splitext(os.path.basename(sam))[0]\n",
    "    sam=sam.rsplit('_L1Aligned.sortedByCoord.out', 1)[0]\n",
    "    ymlFile = patyml + sam + '_job.yml'\n",
    "    ymlFH   = open(ymlFile, 'w')\n",
    "    for field in yml_list:\n",
    "        if field not in yml_data:\n",
    "            print (field, \"NOT FOUND. Cannot progress without this field in the input file\")\n",
    "        elif field == 'spladder_gtf' and field in yml_data:\n",
    "             ymlFH.write(\"spladder_gtf: \\n class: File\\n path: \" + yml_data['spladder_gtf'] + \"\\n\")\n",
    "        elif field == 'spladder_bams' and field in yml_data:\n",
    "            for bam in yml_data['spladder_bams'].split(','):\n",
    "                bam_name=os.path.splitext(os.path.basename(bam))[0].rsplit('_L1Aligned.sortedByCoord.out', 1)[0]\n",
    "                if sam == bam_name:\n",
    "                    ymlFH.write(\"spladder_bams: \\n class: File\\n path: \"+ bam + \"\\n\")\n",
    "        elif field == 'spladder_dir' and field in yml_data:\n",
    "            ymlFH.write(\"spladder_dir: \\n class: File\\n path: \" + yml_data['spladder_dir'] + \"\\n\")\n",
    "        elif field == 'spladder_merge_graphs' and field in yml_data:\n",
    "             ymlFH.write(\"spladder_merge_graphs: \" + yml_data['spladder_merge_graphs'] + \"\\n\")\n",
    "        elif field == 'spladder_phase2' and field in yml_data:\n",
    "             ymlFH.write(\"spladder_phase2: \" + yml_data['spladder_phase2'] + \"\\n\")\n",
    "        elif field == 'spladder_qmode' and field in yml_data:\n",
    "             ymlFH.write(\"spladder_qmode: \" + yml_data['spladder_qmode'] + \"\\n\")\n",
    "        elif field == 'spladder_quantify_graph' and field in yml_data:\n",
    "             ymlFH.write(\"spladder_quantify_graph: \" + yml_data['spladder_quantify_graph'] + \"\\n\")"
   ]
  },
  {
   "cell_type": "code",
   "execution_count": 40,
   "metadata": {},
   "outputs": [
    {
     "ename": "SyntaxError",
     "evalue": "invalid syntax (<ipython-input-40-033f7c336e35>, line 2)",
     "output_type": "error",
     "traceback": [
      "\u001b[0;36m  File \u001b[0;32m\"<ipython-input-40-033f7c336e35>\"\u001b[0;36m, line \u001b[0;32m2\u001b[0m\n\u001b[0;31m    cluster(/home/aalva/Projects/PHRT-Immuno/scripts)\u001b[0m\n\u001b[0m            ^\u001b[0m\n\u001b[0;31mSyntaxError\u001b[0m\u001b[0;31m:\u001b[0m invalid syntax\n"
     ]
    }
   ],
   "source": [
    "## For Spladder part 4 merging or collecting the qunatified graph as single graph!!\n",
    "/cluster/home/aalva/Projects/PHRT-Immuno/scripts\n"
   ]
  },
  {
   "cell_type": "code",
   "execution_count": 47,
   "metadata": {},
   "outputs": [],
   "source": [
    "#!/usr/bin/env python\n",
    "templateFile = '/Users/alvajames/Mount_projects/PHRT-Immuno/scripts/yml_scripts/templateFile_3'\n",
    "yamlFile     = '/Users/alvajames/Mount_projects/PHRT-Immuno/results/PART3/yml3/spladder/part3.yml'\n",
    "yml_data      = {}\n",
    "yml_list      = ['spladder_gtf', 'spladder_dir','spladder_bams','spladder_merge_graphs', 'spladder_phase2','spladder_primary_alignment','spladder_qmode','spladder_quantify_graph']  \n",
    "\n",
    "# reading input file and collecting the provided information\n",
    "fin = open(templateFile, 'r')\n",
    "for line in fin:\n",
    "    line = line.strip().split(' ')\n",
    "    yml_data[line[0]] = line[1]    \n",
    "fin.close()\n",
    "\n",
    "ymlFH = open(yamlFile, 'w')\n",
    "\n",
    "for field in yml_list:\n",
    "    if field not in yml_data:\n",
    "        print (field, \"NOT FOUND. Cannot progress without this field in the input file\")\n",
    "    elif field == 'spladder_gtf' and field in yml_data:\n",
    "        ymlFH.write(\"spladder_gtf: \\n class: File\\n path: \" + yml_data['spladder_gtf'] + \"\\n\")\n",
    "    elif field == 'spladder_bams' and field in yml_data:\n",
    "        nbam = len(yml_data['spladder_bams'].split(','))\n",
    "        ct = 1\n",
    "        ymlFH.write(\"spladder_bams: [\\n\")\n",
    "        for bam in yml_data['spladder_bams'].split(','):\n",
    "            if ct < nbam and ct:\n",
    "                ymlFH.write(\" {class: File, path: \"+ bam + \"},\\n\")\n",
    "            elif ct == nbam:\n",
    "                ymlFH.write(\" {class: File, path: \"+ bam + \"}\\n\")\n",
    "            ct+=1\n",
    "        ymlFH.write(\"]\\n\")\n",
    "    elif field == 'spladder_dir' and field in yml_data:\n",
    "        ymlFH.write(\"spladder_dir: \\n class: Directory\\n path: \" + yml_data['spladder_dir'] + \"\\n\")\n",
    "    elif field == 'spladder_merge_graphs' and field in yml_data:\n",
    "        ymlFH.write(\"spladder_merge_graphs: \" + yml_data['spladder_merge_graphs'] + \"\\n\")\n",
    "    elif field == 'spladder_phase2' and field in yml_data:\n",
    "        ymlFH.write(\"spladder_phase2: \" + yml_data['spladder_phase2'] + \"\\n\")\n",
    "    elif field == 'spladder_qmode' and field in yml_data:\n",
    "        ymlFH.write(\"spladder_qmode: \" + yml_data['spladder_qmode'] + \"\\n\")\n",
    "    elif field == 'spladder_quantify_graph' and field in yml_data:\n",
    "        ymlFH.write(\"spladder_quantify_graph: \" + yml_data['spladder_quantify_graph'] + \"\\n\")"
   ]
  },
  {
   "cell_type": "code",
   "execution_count": null,
   "metadata": {},
   "outputs": [],
   "source": []
  }
 ],
 "metadata": {
  "kernelspec": {
   "display_name": "Python 3",
   "language": "python",
   "name": "python3"
  },
  "language_info": {
   "codemirror_mode": {
    "name": "ipython",
    "version": 3
   },
   "file_extension": ".py",
   "mimetype": "text/x-python",
   "name": "python",
   "nbconvert_exporter": "python",
   "pygments_lexer": "ipython3",
   "version": "3.6.4"
  }
 },
 "nbformat": 4,
 "nbformat_minor": 2
}
